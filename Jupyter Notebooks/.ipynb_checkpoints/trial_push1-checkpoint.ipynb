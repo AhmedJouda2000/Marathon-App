{
 "cells": [
  {
   "cell_type": "code",
   "execution_count": 144,
   "metadata": {},
   "outputs": [],
   "source": [
    "import pandas as pd\n",
    "import numpy as np\n",
    "import matplotlib.pyplot as plt\n",
    "import os"
   ]
  },
  {
   "cell_type": "code",
   "execution_count": null,
   "metadata": {},
   "outputs": [],
   "source": []
  },
  {
   "cell_type": "code",
   "execution_count": 107,
   "metadata": {},
   "outputs": [
    {
     "data": {
      "text/plain": [
       "'C:\\\\Users\\\\ahmed\\\\Desktop'"
      ]
     },
     "execution_count": 107,
     "metadata": {},
     "output_type": "execute_result"
    }
   ],
   "source": [
    "os.getcwd()"
   ]
  },
  {
   "cell_type": "code",
   "execution_count": 108,
   "metadata": {},
   "outputs": [],
   "source": [
    "os.chdir(\"C:\\\\Users\\\\ahmed\\\\Desktop\")"
   ]
  },
  {
   "cell_type": "code",
   "execution_count": 109,
   "metadata": {},
   "outputs": [
    {
     "data": {
      "text/plain": [
       "['20191006151743_IMG_4206-01.jpeg',\n",
       " 'Ahmed Jouda- UCD Advantage Award.docx',\n",
       " 'AhmedJouda-Image.jpg',\n",
       " 'Arabsoc constitution.pdf',\n",
       " 'CT_ Arab Spring (1).docx',\n",
       " 'CT_ Ireland & Palestine.docx',\n",
       " 'desktop.ini',\n",
       " 'df_merged_ie.pkl',\n",
       " 'Eric_Matthes_Python_Crash_Course_A_Hands.pdf',\n",
       " 'form-CTZ3.pdf',\n",
       " 'Kast.lnk',\n",
       " 'learner-help.pdf',\n",
       " 'Other',\n",
       " 'PythonVs',\n",
       " 'runtraining_app',\n",
       " 'skilly-help.pdf',\n",
       " 'skillyedcfromhomeproblems.txt',\n",
       " 'SkillyPRs.txt',\n",
       " 'Star',\n",
       " 'Study',\n",
       " 'Summer.xlsx',\n",
       " 'TheHalalCrawl.txt',\n",
       " 'Visual Studio Code.lnk',\n",
       " 'Zoom.lnk']"
      ]
     },
     "execution_count": 109,
     "metadata": {},
     "output_type": "execute_result"
    }
   ],
   "source": [
    "os.listdir() "
   ]
  },
  {
   "cell_type": "code",
   "execution_count": 110,
   "metadata": {},
   "outputs": [],
   "source": [
    "df = pd.read_pickle('df_merged_ie.pkl')"
   ]
  },
  {
   "cell_type": "code",
   "execution_count": 111,
   "metadata": {},
   "outputs": [
    {
     "data": {
      "text/html": [
       "<div>\n",
       "<style scoped>\n",
       "    .dataframe tbody tr th:only-of-type {\n",
       "        vertical-align: middle;\n",
       "    }\n",
       "\n",
       "    .dataframe tbody tr th {\n",
       "        vertical-align: top;\n",
       "    }\n",
       "\n",
       "    .dataframe thead th {\n",
       "        text-align: right;\n",
       "    }\n",
       "</style>\n",
       "<table border=\"1\" class=\"dataframe\">\n",
       "  <thead>\n",
       "    <tr style=\"text-align: right;\">\n",
       "      <th></th>\n",
       "      <th>id</th>\n",
       "      <th>hashedathleteid</th>\n",
       "      <th>startdatelocal</th>\n",
       "      <th>totaldistance</th>\n",
       "      <th>startlngapprox</th>\n",
       "      <th>startlatapprox</th>\n",
       "      <th>city_name</th>\n",
       "      <th>country_code</th>\n",
       "    </tr>\n",
       "  </thead>\n",
       "  <tbody>\n",
       "    <tr>\n",
       "      <th>24</th>\n",
       "      <td>24</td>\n",
       "      <td>7f0f7b330267216fe9fa65d6f0090ad8a5a7d7491b861d...</td>\n",
       "      <td>2017-08-16 09:47:43</td>\n",
       "      <td>7011.0</td>\n",
       "      <td>-3.24</td>\n",
       "      <td>55.94</td>\n",
       "      <td>edinburgh</td>\n",
       "      <td>gb</td>\n",
       "    </tr>\n",
       "    <tr>\n",
       "      <th>89</th>\n",
       "      <td>89</td>\n",
       "      <td>5e258d3214e967a2af81b991561ebe692439244f194b18...</td>\n",
       "      <td>2017-08-19 15:12:59</td>\n",
       "      <td>16005.3</td>\n",
       "      <td>-6.73</td>\n",
       "      <td>52.74</td>\n",
       "      <td>tullow</td>\n",
       "      <td>ie</td>\n",
       "    </tr>\n",
       "  </tbody>\n",
       "</table>\n",
       "</div>"
      ],
      "text/plain": [
       "    id                                    hashedathleteid      startdatelocal  \\\n",
       "24  24  7f0f7b330267216fe9fa65d6f0090ad8a5a7d7491b861d... 2017-08-16 09:47:43   \n",
       "89  89  5e258d3214e967a2af81b991561ebe692439244f194b18... 2017-08-19 15:12:59   \n",
       "\n",
       "    totaldistance  startlngapprox  startlatapprox  city_name country_code  \n",
       "24         7011.0           -3.24           55.94  edinburgh           gb  \n",
       "89        16005.3           -6.73           52.74     tullow           ie  "
      ]
     },
     "execution_count": 111,
     "metadata": {},
     "output_type": "execute_result"
    }
   ],
   "source": [
    "df.head(2)"
   ]
  },
  {
   "cell_type": "code",
   "execution_count": 112,
   "metadata": {},
   "outputs": [
    {
     "data": {
      "image/png": "[encoded data removed]",
      "text/plain": [
       "<Figure size 432x288 with 1 Axes>"
      ]
     },
     "metadata": {
      "needs_background": "light"
     },
     "output_type": "display_data"
    }
   ],
   "source": [
    "df[df.totaldistance < 40000].totaldistance.hist(bins=100, density=True)\n",
    "plt.yscale('log')\n"
   ]
  },
  {
   "cell_type": "code",
   "execution_count": 113,
   "metadata": {},
   "outputs": [
    {
     "data": {
      "text/plain": [
       "<bound method NDFrame.describe of                         id                                    hashedathleteid  \\\n",
       "24                      24  7f0f7b330267216fe9fa65d6f0090ad8a5a7d7491b861d...   \n",
       "89                      89  5e258d3214e967a2af81b991561ebe692439244f194b18...   \n",
       "96                      96  6828ad47cac1ff47a4edecdde8a42f9867184e4a96f96a...   \n",
       "130                    130  43025210deaa0cff02a6ea41c74c8c9d1862b4ddd12732...   \n",
       "137                    137  06ed8bd6e1b7347e8f672ea4bad0e89ca7dbdad62100bc...   \n",
       "...                    ...                                                ...   \n",
       "347200111  133642202388600  ef1dc2e316cca5b7fbf031e2e115f4fdb647516c6e3f84...   \n",
       "347200138  135918535052829  7e2a687541d9aa91b7370c5529fe06b21c0575b019ce28...   \n",
       "347200140  135918535052831  3dd04bded3682ed3a1f22dbd3dda3264b78d6f89b7e6ee...   \n",
       "347200169  136975097005269  808c961aeea6266cabc57b9d2d5b5777b75929b0ac72da...   \n",
       "347200177  136975097005277  578b02058c6123209c8b18d0408e071d6a55d62033c89f...   \n",
       "\n",
       "               startdatelocal  totaldistance  startlngapprox  startlatapprox  \\\n",
       "24        2017-08-16 09:47:43         7011.0           -3.24           55.94   \n",
       "89        2017-08-19 15:12:59        16005.3           -6.73           52.74   \n",
       "96        2017-08-19 17:29:17        10041.3            2.30           48.86   \n",
       "130       2017-08-19 08:19:28        27411.0         -123.10           49.25   \n",
       "137       2017-08-19 18:13:25        16008.5           -3.17           55.94   \n",
       "...                       ...            ...             ...             ...   \n",
       "347200111 2017-05-15 19:04:37         1393.0           -9.50           52.63   \n",
       "347200138 2017-03-12 11:33:59         8036.1           -2.25           53.43   \n",
       "347200140 2017-03-12 09:06:53        26564.5           -0.44           53.75   \n",
       "347200169 2016-10-13 13:04:04         4290.8           -8.50           54.36   \n",
       "347200177 2016-10-13 08:18:12         3252.4          -97.39           32.83   \n",
       "\n",
       "           city_name country_code  \n",
       "24         edinburgh           gb  \n",
       "89            tullow           ie  \n",
       "96             paris           fr  \n",
       "130        vancouver           ca  \n",
       "137        edinburgh           gb  \n",
       "...              ...          ...  \n",
       "347200111    kilrush           ie  \n",
       "347200138       sale           gb  \n",
       "347200140   beverley           gb  \n",
       "347200169      sligo           ie  \n",
       "347200177    saginaw           us  \n",
       "\n",
       "[12243907 rows x 8 columns]>"
      ]
     },
     "execution_count": 113,
     "metadata": {},
     "output_type": "execute_result"
    }
   ],
   "source": [
    "df.describe"
   ]
  },
  {
   "cell_type": "code",
   "execution_count": 114,
   "metadata": {},
   "outputs": [
    {
     "data": {
      "text/plain": [
       "Index(['id', 'hashedathleteid', 'startdatelocal', 'totaldistance',\n",
       "       'startlngapprox', 'startlatapprox', 'city_name', 'country_code'],\n",
       "      dtype='object')"
      ]
     },
     "execution_count": 114,
     "metadata": {},
     "output_type": "execute_result"
    }
   ],
   "source": [
    "df.columns"
   ]
  },
  {
   "cell_type": "code",
   "execution_count": 115,
   "metadata": {},
   "outputs": [
    {
     "data": {
      "text/plain": [
       "8731.166799138926"
      ]
     },
     "execution_count": 115,
     "metadata": {},
     "output_type": "execute_result"
    }
   ],
   "source": [
    "#mean of total distance ran\n",
    "df[\"totaldistance\"].mean()"
   ]
  },
  {
   "cell_type": "code",
   "execution_count": 116,
   "metadata": {},
   "outputs": [
    {
     "data": {
      "text/html": [
       "<div>\n",
       "<style scoped>\n",
       "    .dataframe tbody tr th:only-of-type {\n",
       "        vertical-align: middle;\n",
       "    }\n",
       "\n",
       "    .dataframe tbody tr th {\n",
       "        vertical-align: top;\n",
       "    }\n",
       "\n",
       "    .dataframe thead th {\n",
       "        text-align: right;\n",
       "    }\n",
       "</style>\n",
       "<table border=\"1\" class=\"dataframe\">\n",
       "  <thead>\n",
       "    <tr style=\"text-align: right;\">\n",
       "      <th></th>\n",
       "      <th>id</th>\n",
       "      <th>hashedathleteid</th>\n",
       "      <th>startdatelocal</th>\n",
       "      <th>totaldistance</th>\n",
       "      <th>startlngapprox</th>\n",
       "      <th>startlatapprox</th>\n",
       "      <th>city_name</th>\n",
       "      <th>country_code</th>\n",
       "    </tr>\n",
       "  </thead>\n",
       "  <tbody>\n",
       "    <tr>\n",
       "      <th>24</th>\n",
       "      <td>24</td>\n",
       "      <td>7f0f7b330267216fe9fa65d6f0090ad8a5a7d7491b861d...</td>\n",
       "      <td>2017-08-16 09:47:43</td>\n",
       "      <td>7011.0</td>\n",
       "      <td>-3.24</td>\n",
       "      <td>55.94</td>\n",
       "      <td>edinburgh</td>\n",
       "      <td>gb</td>\n",
       "    </tr>\n",
       "  </tbody>\n",
       "</table>\n",
       "</div>"
      ],
      "text/plain": [
       "    id                                    hashedathleteid      startdatelocal  \\\n",
       "24  24  7f0f7b330267216fe9fa65d6f0090ad8a5a7d7491b861d... 2017-08-16 09:47:43   \n",
       "\n",
       "    totaldistance  startlngapprox  startlatapprox  city_name country_code  \n",
       "24         7011.0           -3.24           55.94  edinburgh           gb  "
      ]
     },
     "execution_count": 116,
     "metadata": {},
     "output_type": "execute_result"
    }
   ],
   "source": [
    "#data sample\n",
    "df.iloc[0:1]"
   ]
  },
  {
   "cell_type": "code",
   "execution_count": 117,
   "metadata": {},
   "outputs": [
    {
     "data": {
      "text/plain": [
       "12243907"
      ]
     },
     "execution_count": 117,
     "metadata": {},
     "output_type": "execute_result"
    }
   ],
   "source": [
    "#number of entries\n",
    "len(df)"
   ]
  },
  {
   "cell_type": "code",
   "execution_count": 118,
   "metadata": {},
   "outputs": [
    {
     "data": {
      "text/plain": [
       "7132.0"
      ]
     },
     "execution_count": 118,
     "metadata": {},
     "output_type": "execute_result"
    }
   ],
   "source": [
    "#mean of total distance ran\n",
    "df[\"totaldistance\"].median()\n"
   ]
  },
  {
   "cell_type": "code",
   "execution_count": 119,
   "metadata": {},
   "outputs": [
    {
     "data": {
      "text/plain": [
       "0    0.0\n",
       "dtype: float64"
      ]
     },
     "execution_count": 119,
     "metadata": {},
     "output_type": "execute_result"
    }
   ],
   "source": [
    "#mean of total distance ran\n",
    "df['totaldistance'].mode()"
   ]
  },
  {
   "cell_type": "code",
   "execution_count": 120,
   "metadata": {},
   "outputs": [
    {
     "data": {
      "text/html": [
       "<div>\n",
       "<style scoped>\n",
       "    .dataframe tbody tr th:only-of-type {\n",
       "        vertical-align: middle;\n",
       "    }\n",
       "\n",
       "    .dataframe tbody tr th {\n",
       "        vertical-align: top;\n",
       "    }\n",
       "\n",
       "    .dataframe thead th {\n",
       "        text-align: right;\n",
       "    }\n",
       "</style>\n",
       "<table border=\"1\" class=\"dataframe\">\n",
       "  <thead>\n",
       "    <tr style=\"text-align: right;\">\n",
       "      <th></th>\n",
       "      <th>totaldistance</th>\n",
       "    </tr>\n",
       "  </thead>\n",
       "  <tbody>\n",
       "    <tr>\n",
       "      <th>min</th>\n",
       "      <td>0.000000e+00</td>\n",
       "    </tr>\n",
       "    <tr>\n",
       "      <th>max</th>\n",
       "      <td>1.632210e+08</td>\n",
       "    </tr>\n",
       "    <tr>\n",
       "      <th>median</th>\n",
       "      <td>7.132000e+03</td>\n",
       "    </tr>\n",
       "    <tr>\n",
       "      <th>skew</th>\n",
       "      <td>1.454871e+03</td>\n",
       "    </tr>\n",
       "  </tbody>\n",
       "</table>\n",
       "</div>"
      ],
      "text/plain": [
       "        totaldistance\n",
       "min      0.000000e+00\n",
       "max      1.632210e+08\n",
       "median   7.132000e+03\n",
       "skew     1.454871e+03"
      ]
     },
     "execution_count": 120,
     "metadata": {},
     "output_type": "execute_result"
    }
   ],
   "source": [
    "df.agg({'totaldistance': ['min', 'max', 'median', 'skew']})\n",
    "   ...: "
   ]
  },
  {
   "cell_type": "code",
   "execution_count": 121,
   "metadata": {},
   "outputs": [],
   "source": [
    "df2 = df[df.totaldistance < 1000*100]"
   ]
  },
  {
   "cell_type": "code",
   "execution_count": 122,
   "metadata": {},
   "outputs": [
    {
     "data": {
      "text/html": [
       "<div>\n",
       "<style scoped>\n",
       "    .dataframe tbody tr th:only-of-type {\n",
       "        vertical-align: middle;\n",
       "    }\n",
       "\n",
       "    .dataframe tbody tr th {\n",
       "        vertical-align: top;\n",
       "    }\n",
       "\n",
       "    .dataframe thead th {\n",
       "        text-align: right;\n",
       "    }\n",
       "</style>\n",
       "<table border=\"1\" class=\"dataframe\">\n",
       "  <thead>\n",
       "    <tr style=\"text-align: right;\">\n",
       "      <th></th>\n",
       "      <th>id</th>\n",
       "      <th>hashedathleteid</th>\n",
       "      <th>startdatelocal</th>\n",
       "      <th>totaldistance</th>\n",
       "      <th>startlngapprox</th>\n",
       "      <th>startlatapprox</th>\n",
       "      <th>city_name</th>\n",
       "      <th>country_code</th>\n",
       "    </tr>\n",
       "  </thead>\n",
       "  <tbody>\n",
       "    <tr>\n",
       "      <th>24</th>\n",
       "      <td>24</td>\n",
       "      <td>7f0f7b330267216fe9fa65d6f0090ad8a5a7d7491b861d...</td>\n",
       "      <td>2017-08-16 09:47:43</td>\n",
       "      <td>7011.0</td>\n",
       "      <td>-3.24</td>\n",
       "      <td>55.94</td>\n",
       "      <td>edinburgh</td>\n",
       "      <td>gb</td>\n",
       "    </tr>\n",
       "    <tr>\n",
       "      <th>89</th>\n",
       "      <td>89</td>\n",
       "      <td>5e258d3214e967a2af81b991561ebe692439244f194b18...</td>\n",
       "      <td>2017-08-19 15:12:59</td>\n",
       "      <td>16005.3</td>\n",
       "      <td>-6.73</td>\n",
       "      <td>52.74</td>\n",
       "      <td>tullow</td>\n",
       "      <td>ie</td>\n",
       "    </tr>\n",
       "    <tr>\n",
       "      <th>96</th>\n",
       "      <td>96</td>\n",
       "      <td>6828ad47cac1ff47a4edecdde8a42f9867184e4a96f96a...</td>\n",
       "      <td>2017-08-19 17:29:17</td>\n",
       "      <td>10041.3</td>\n",
       "      <td>2.30</td>\n",
       "      <td>48.86</td>\n",
       "      <td>paris</td>\n",
       "      <td>fr</td>\n",
       "    </tr>\n",
       "    <tr>\n",
       "      <th>130</th>\n",
       "      <td>130</td>\n",
       "      <td>43025210deaa0cff02a6ea41c74c8c9d1862b4ddd12732...</td>\n",
       "      <td>2017-08-19 08:19:28</td>\n",
       "      <td>27411.0</td>\n",
       "      <td>-123.10</td>\n",
       "      <td>49.25</td>\n",
       "      <td>vancouver</td>\n",
       "      <td>ca</td>\n",
       "    </tr>\n",
       "    <tr>\n",
       "      <th>137</th>\n",
       "      <td>137</td>\n",
       "      <td>06ed8bd6e1b7347e8f672ea4bad0e89ca7dbdad62100bc...</td>\n",
       "      <td>2017-08-19 18:13:25</td>\n",
       "      <td>16008.5</td>\n",
       "      <td>-3.17</td>\n",
       "      <td>55.94</td>\n",
       "      <td>edinburgh</td>\n",
       "      <td>gb</td>\n",
       "    </tr>\n",
       "    <tr>\n",
       "      <th>...</th>\n",
       "      <td>...</td>\n",
       "      <td>...</td>\n",
       "      <td>...</td>\n",
       "      <td>...</td>\n",
       "      <td>...</td>\n",
       "      <td>...</td>\n",
       "      <td>...</td>\n",
       "      <td>...</td>\n",
       "    </tr>\n",
       "    <tr>\n",
       "      <th>347200111</th>\n",
       "      <td>133642202388600</td>\n",
       "      <td>ef1dc2e316cca5b7fbf031e2e115f4fdb647516c6e3f84...</td>\n",
       "      <td>2017-05-15 19:04:37</td>\n",
       "      <td>1393.0</td>\n",
       "      <td>-9.50</td>\n",
       "      <td>52.63</td>\n",
       "      <td>kilrush</td>\n",
       "      <td>ie</td>\n",
       "    </tr>\n",
       "    <tr>\n",
       "      <th>347200138</th>\n",
       "      <td>135918535052829</td>\n",
       "      <td>7e2a687541d9aa91b7370c5529fe06b21c0575b019ce28...</td>\n",
       "      <td>2017-03-12 11:33:59</td>\n",
       "      <td>8036.1</td>\n",
       "      <td>-2.25</td>\n",
       "      <td>53.43</td>\n",
       "      <td>sale</td>\n",
       "      <td>gb</td>\n",
       "    </tr>\n",
       "    <tr>\n",
       "      <th>347200140</th>\n",
       "      <td>135918535052831</td>\n",
       "      <td>3dd04bded3682ed3a1f22dbd3dda3264b78d6f89b7e6ee...</td>\n",
       "      <td>2017-03-12 09:06:53</td>\n",
       "      <td>26564.5</td>\n",
       "      <td>-0.44</td>\n",
       "      <td>53.75</td>\n",
       "      <td>beverley</td>\n",
       "      <td>gb</td>\n",
       "    </tr>\n",
       "    <tr>\n",
       "      <th>347200169</th>\n",
       "      <td>136975097005269</td>\n",
       "      <td>808c961aeea6266cabc57b9d2d5b5777b75929b0ac72da...</td>\n",
       "      <td>2016-10-13 13:04:04</td>\n",
       "      <td>4290.8</td>\n",
       "      <td>-8.50</td>\n",
       "      <td>54.36</td>\n",
       "      <td>sligo</td>\n",
       "      <td>ie</td>\n",
       "    </tr>\n",
       "    <tr>\n",
       "      <th>347200177</th>\n",
       "      <td>136975097005277</td>\n",
       "      <td>578b02058c6123209c8b18d0408e071d6a55d62033c89f...</td>\n",
       "      <td>2016-10-13 08:18:12</td>\n",
       "      <td>3252.4</td>\n",
       "      <td>-97.39</td>\n",
       "      <td>32.83</td>\n",
       "      <td>saginaw</td>\n",
       "      <td>us</td>\n",
       "    </tr>\n",
       "  </tbody>\n",
       "</table>\n",
       "<p>12239555 rows × 8 columns</p>\n",
       "</div>"
      ],
      "text/plain": [
       "                        id                                    hashedathleteid  \\\n",
       "24                      24  7f0f7b330267216fe9fa65d6f0090ad8a5a7d7491b861d...   \n",
       "89                      89  5e258d3214e967a2af81b991561ebe692439244f194b18...   \n",
       "96                      96  6828ad47cac1ff47a4edecdde8a42f9867184e4a96f96a...   \n",
       "130                    130  43025210deaa0cff02a6ea41c74c8c9d1862b4ddd12732...   \n",
       "137                    137  06ed8bd6e1b7347e8f672ea4bad0e89ca7dbdad62100bc...   \n",
       "...                    ...                                                ...   \n",
       "347200111  133642202388600  ef1dc2e316cca5b7fbf031e2e115f4fdb647516c6e3f84...   \n",
       "347200138  135918535052829  7e2a687541d9aa91b7370c5529fe06b21c0575b019ce28...   \n",
       "347200140  135918535052831  3dd04bded3682ed3a1f22dbd3dda3264b78d6f89b7e6ee...   \n",
       "347200169  136975097005269  808c961aeea6266cabc57b9d2d5b5777b75929b0ac72da...   \n",
       "347200177  136975097005277  578b02058c6123209c8b18d0408e071d6a55d62033c89f...   \n",
       "\n",
       "               startdatelocal  totaldistance  startlngapprox  startlatapprox  \\\n",
       "24        2017-08-16 09:47:43         7011.0           -3.24           55.94   \n",
       "89        2017-08-19 15:12:59        16005.3           -6.73           52.74   \n",
       "96        2017-08-19 17:29:17        10041.3            2.30           48.86   \n",
       "130       2017-08-19 08:19:28        27411.0         -123.10           49.25   \n",
       "137       2017-08-19 18:13:25        16008.5           -3.17           55.94   \n",
       "...                       ...            ...             ...             ...   \n",
       "347200111 2017-05-15 19:04:37         1393.0           -9.50           52.63   \n",
       "347200138 2017-03-12 11:33:59         8036.1           -2.25           53.43   \n",
       "347200140 2017-03-12 09:06:53        26564.5           -0.44           53.75   \n",
       "347200169 2016-10-13 13:04:04         4290.8           -8.50           54.36   \n",
       "347200177 2016-10-13 08:18:12         3252.4          -97.39           32.83   \n",
       "\n",
       "           city_name country_code  \n",
       "24         edinburgh           gb  \n",
       "89            tullow           ie  \n",
       "96             paris           fr  \n",
       "130        vancouver           ca  \n",
       "137        edinburgh           gb  \n",
       "...              ...          ...  \n",
       "347200111    kilrush           ie  \n",
       "347200138       sale           gb  \n",
       "347200140   beverley           gb  \n",
       "347200169      sligo           ie  \n",
       "347200177    saginaw           us  \n",
       "\n",
       "[12239555 rows x 8 columns]"
      ]
     },
     "execution_count": 122,
     "metadata": {},
     "output_type": "execute_result"
    }
   ],
   "source": [
    "df2"
   ]
  },
  {
   "cell_type": "code",
   "execution_count": 123,
   "metadata": {},
   "outputs": [
    {
     "data": {
      "text/html": [
       "<div>\n",
       "<style scoped>\n",
       "    .dataframe tbody tr th:only-of-type {\n",
       "        vertical-align: middle;\n",
       "    }\n",
       "\n",
       "    .dataframe tbody tr th {\n",
       "        vertical-align: top;\n",
       "    }\n",
       "\n",
       "    .dataframe thead th {\n",
       "        text-align: right;\n",
       "    }\n",
       "</style>\n",
       "<table border=\"1\" class=\"dataframe\">\n",
       "  <thead>\n",
       "    <tr style=\"text-align: right;\">\n",
       "      <th></th>\n",
       "      <th>id</th>\n",
       "      <th>hashedathleteid</th>\n",
       "      <th>startdatelocal</th>\n",
       "      <th>totaldistance</th>\n",
       "      <th>startlngapprox</th>\n",
       "      <th>startlatapprox</th>\n",
       "      <th>city_name</th>\n",
       "      <th>country_code</th>\n",
       "    </tr>\n",
       "  </thead>\n",
       "  <tbody>\n",
       "    <tr>\n",
       "      <th>24</th>\n",
       "      <td>24</td>\n",
       "      <td>7f0f7b330267216fe9fa65d6f0090ad8a5a7d7491b861d...</td>\n",
       "      <td>2017-08-16 09:47:43</td>\n",
       "      <td>7011.0</td>\n",
       "      <td>-3.24</td>\n",
       "      <td>55.94</td>\n",
       "      <td>edinburgh</td>\n",
       "      <td>gb</td>\n",
       "    </tr>\n",
       "    <tr>\n",
       "      <th>89</th>\n",
       "      <td>89</td>\n",
       "      <td>5e258d3214e967a2af81b991561ebe692439244f194b18...</td>\n",
       "      <td>2017-08-19 15:12:59</td>\n",
       "      <td>16005.3</td>\n",
       "      <td>-6.73</td>\n",
       "      <td>52.74</td>\n",
       "      <td>tullow</td>\n",
       "      <td>ie</td>\n",
       "    </tr>\n",
       "    <tr>\n",
       "      <th>96</th>\n",
       "      <td>96</td>\n",
       "      <td>6828ad47cac1ff47a4edecdde8a42f9867184e4a96f96a...</td>\n",
       "      <td>2017-08-19 17:29:17</td>\n",
       "      <td>10041.3</td>\n",
       "      <td>2.30</td>\n",
       "      <td>48.86</td>\n",
       "      <td>paris</td>\n",
       "      <td>fr</td>\n",
       "    </tr>\n",
       "    <tr>\n",
       "      <th>130</th>\n",
       "      <td>130</td>\n",
       "      <td>43025210deaa0cff02a6ea41c74c8c9d1862b4ddd12732...</td>\n",
       "      <td>2017-08-19 08:19:28</td>\n",
       "      <td>27411.0</td>\n",
       "      <td>-123.10</td>\n",
       "      <td>49.25</td>\n",
       "      <td>vancouver</td>\n",
       "      <td>ca</td>\n",
       "    </tr>\n",
       "    <tr>\n",
       "      <th>137</th>\n",
       "      <td>137</td>\n",
       "      <td>06ed8bd6e1b7347e8f672ea4bad0e89ca7dbdad62100bc...</td>\n",
       "      <td>2017-08-19 18:13:25</td>\n",
       "      <td>16008.5</td>\n",
       "      <td>-3.17</td>\n",
       "      <td>55.94</td>\n",
       "      <td>edinburgh</td>\n",
       "      <td>gb</td>\n",
       "    </tr>\n",
       "    <tr>\n",
       "      <th>...</th>\n",
       "      <td>...</td>\n",
       "      <td>...</td>\n",
       "      <td>...</td>\n",
       "      <td>...</td>\n",
       "      <td>...</td>\n",
       "      <td>...</td>\n",
       "      <td>...</td>\n",
       "      <td>...</td>\n",
       "    </tr>\n",
       "    <tr>\n",
       "      <th>347200111</th>\n",
       "      <td>133642202388600</td>\n",
       "      <td>ef1dc2e316cca5b7fbf031e2e115f4fdb647516c6e3f84...</td>\n",
       "      <td>2017-05-15 19:04:37</td>\n",
       "      <td>1393.0</td>\n",
       "      <td>-9.50</td>\n",
       "      <td>52.63</td>\n",
       "      <td>kilrush</td>\n",
       "      <td>ie</td>\n",
       "    </tr>\n",
       "    <tr>\n",
       "      <th>347200138</th>\n",
       "      <td>135918535052829</td>\n",
       "      <td>7e2a687541d9aa91b7370c5529fe06b21c0575b019ce28...</td>\n",
       "      <td>2017-03-12 11:33:59</td>\n",
       "      <td>8036.1</td>\n",
       "      <td>-2.25</td>\n",
       "      <td>53.43</td>\n",
       "      <td>sale</td>\n",
       "      <td>gb</td>\n",
       "    </tr>\n",
       "    <tr>\n",
       "      <th>347200140</th>\n",
       "      <td>135918535052831</td>\n",
       "      <td>3dd04bded3682ed3a1f22dbd3dda3264b78d6f89b7e6ee...</td>\n",
       "      <td>2017-03-12 09:06:53</td>\n",
       "      <td>26564.5</td>\n",
       "      <td>-0.44</td>\n",
       "      <td>53.75</td>\n",
       "      <td>beverley</td>\n",
       "      <td>gb</td>\n",
       "    </tr>\n",
       "    <tr>\n",
       "      <th>347200169</th>\n",
       "      <td>136975097005269</td>\n",
       "      <td>808c961aeea6266cabc57b9d2d5b5777b75929b0ac72da...</td>\n",
       "      <td>2016-10-13 13:04:04</td>\n",
       "      <td>4290.8</td>\n",
       "      <td>-8.50</td>\n",
       "      <td>54.36</td>\n",
       "      <td>sligo</td>\n",
       "      <td>ie</td>\n",
       "    </tr>\n",
       "    <tr>\n",
       "      <th>347200177</th>\n",
       "      <td>136975097005277</td>\n",
       "      <td>578b02058c6123209c8b18d0408e071d6a55d62033c89f...</td>\n",
       "      <td>2016-10-13 08:18:12</td>\n",
       "      <td>3252.4</td>\n",
       "      <td>-97.39</td>\n",
       "      <td>32.83</td>\n",
       "      <td>saginaw</td>\n",
       "      <td>us</td>\n",
       "    </tr>\n",
       "  </tbody>\n",
       "</table>\n",
       "<p>12243907 rows × 8 columns</p>\n",
       "</div>"
      ],
      "text/plain": [
       "                        id                                    hashedathleteid  \\\n",
       "24                      24  7f0f7b330267216fe9fa65d6f0090ad8a5a7d7491b861d...   \n",
       "89                      89  5e258d3214e967a2af81b991561ebe692439244f194b18...   \n",
       "96                      96  6828ad47cac1ff47a4edecdde8a42f9867184e4a96f96a...   \n",
       "130                    130  43025210deaa0cff02a6ea41c74c8c9d1862b4ddd12732...   \n",
       "137                    137  06ed8bd6e1b7347e8f672ea4bad0e89ca7dbdad62100bc...   \n",
       "...                    ...                                                ...   \n",
       "347200111  133642202388600  ef1dc2e316cca5b7fbf031e2e115f4fdb647516c6e3f84...   \n",
       "347200138  135918535052829  7e2a687541d9aa91b7370c5529fe06b21c0575b019ce28...   \n",
       "347200140  135918535052831  3dd04bded3682ed3a1f22dbd3dda3264b78d6f89b7e6ee...   \n",
       "347200169  136975097005269  808c961aeea6266cabc57b9d2d5b5777b75929b0ac72da...   \n",
       "347200177  136975097005277  578b02058c6123209c8b18d0408e071d6a55d62033c89f...   \n",
       "\n",
       "               startdatelocal  totaldistance  startlngapprox  startlatapprox  \\\n",
       "24        2017-08-16 09:47:43         7011.0           -3.24           55.94   \n",
       "89        2017-08-19 15:12:59        16005.3           -6.73           52.74   \n",
       "96        2017-08-19 17:29:17        10041.3            2.30           48.86   \n",
       "130       2017-08-19 08:19:28        27411.0         -123.10           49.25   \n",
       "137       2017-08-19 18:13:25        16008.5           -3.17           55.94   \n",
       "...                       ...            ...             ...             ...   \n",
       "347200111 2017-05-15 19:04:37         1393.0           -9.50           52.63   \n",
       "347200138 2017-03-12 11:33:59         8036.1           -2.25           53.43   \n",
       "347200140 2017-03-12 09:06:53        26564.5           -0.44           53.75   \n",
       "347200169 2016-10-13 13:04:04         4290.8           -8.50           54.36   \n",
       "347200177 2016-10-13 08:18:12         3252.4          -97.39           32.83   \n",
       "\n",
       "           city_name country_code  \n",
       "24         edinburgh           gb  \n",
       "89            tullow           ie  \n",
       "96             paris           fr  \n",
       "130        vancouver           ca  \n",
       "137        edinburgh           gb  \n",
       "...              ...          ...  \n",
       "347200111    kilrush           ie  \n",
       "347200138       sale           gb  \n",
       "347200140   beverley           gb  \n",
       "347200169      sligo           ie  \n",
       "347200177    saginaw           us  \n",
       "\n",
       "[12243907 rows x 8 columns]"
      ]
     },
     "execution_count": 123,
     "metadata": {},
     "output_type": "execute_result"
    }
   ],
   "source": [
    "df"
   ]
  },
  {
   "cell_type": "code",
   "execution_count": 124,
   "metadata": {},
   "outputs": [
    {
     "data": {
      "text/html": [
       "<div>\n",
       "<style scoped>\n",
       "    .dataframe tbody tr th:only-of-type {\n",
       "        vertical-align: middle;\n",
       "    }\n",
       "\n",
       "    .dataframe tbody tr th {\n",
       "        vertical-align: top;\n",
       "    }\n",
       "\n",
       "    .dataframe thead th {\n",
       "        text-align: right;\n",
       "    }\n",
       "</style>\n",
       "<table border=\"1\" class=\"dataframe\">\n",
       "  <thead>\n",
       "    <tr style=\"text-align: right;\">\n",
       "      <th></th>\n",
       "      <th>id</th>\n",
       "      <th>hashedathleteid</th>\n",
       "      <th>startdatelocal</th>\n",
       "      <th>totaldistance</th>\n",
       "      <th>startlngapprox</th>\n",
       "      <th>startlatapprox</th>\n",
       "      <th>city_name</th>\n",
       "      <th>country_code</th>\n",
       "    </tr>\n",
       "  </thead>\n",
       "  <tbody>\n",
       "    <tr>\n",
       "      <th>24</th>\n",
       "      <td>24</td>\n",
       "      <td>7f0f7b330267216fe9fa65d6f0090ad8a5a7d7491b861d...</td>\n",
       "      <td>2017-08-16 09:47:43</td>\n",
       "      <td>7011.0</td>\n",
       "      <td>-3.24</td>\n",
       "      <td>55.94</td>\n",
       "      <td>edinburgh</td>\n",
       "      <td>gb</td>\n",
       "    </tr>\n",
       "    <tr>\n",
       "      <th>89</th>\n",
       "      <td>89</td>\n",
       "      <td>5e258d3214e967a2af81b991561ebe692439244f194b18...</td>\n",
       "      <td>2017-08-19 15:12:59</td>\n",
       "      <td>16005.3</td>\n",
       "      <td>-6.73</td>\n",
       "      <td>52.74</td>\n",
       "      <td>tullow</td>\n",
       "      <td>ie</td>\n",
       "    </tr>\n",
       "    <tr>\n",
       "      <th>96</th>\n",
       "      <td>96</td>\n",
       "      <td>6828ad47cac1ff47a4edecdde8a42f9867184e4a96f96a...</td>\n",
       "      <td>2017-08-19 17:29:17</td>\n",
       "      <td>10041.3</td>\n",
       "      <td>2.30</td>\n",
       "      <td>48.86</td>\n",
       "      <td>paris</td>\n",
       "      <td>fr</td>\n",
       "    </tr>\n",
       "    <tr>\n",
       "      <th>130</th>\n",
       "      <td>130</td>\n",
       "      <td>43025210deaa0cff02a6ea41c74c8c9d1862b4ddd12732...</td>\n",
       "      <td>2017-08-19 08:19:28</td>\n",
       "      <td>27411.0</td>\n",
       "      <td>-123.10</td>\n",
       "      <td>49.25</td>\n",
       "      <td>vancouver</td>\n",
       "      <td>ca</td>\n",
       "    </tr>\n",
       "    <tr>\n",
       "      <th>137</th>\n",
       "      <td>137</td>\n",
       "      <td>06ed8bd6e1b7347e8f672ea4bad0e89ca7dbdad62100bc...</td>\n",
       "      <td>2017-08-19 18:13:25</td>\n",
       "      <td>16008.5</td>\n",
       "      <td>-3.17</td>\n",
       "      <td>55.94</td>\n",
       "      <td>edinburgh</td>\n",
       "      <td>gb</td>\n",
       "    </tr>\n",
       "    <tr>\n",
       "      <th>...</th>\n",
       "      <td>...</td>\n",
       "      <td>...</td>\n",
       "      <td>...</td>\n",
       "      <td>...</td>\n",
       "      <td>...</td>\n",
       "      <td>...</td>\n",
       "      <td>...</td>\n",
       "      <td>...</td>\n",
       "    </tr>\n",
       "    <tr>\n",
       "      <th>347200111</th>\n",
       "      <td>133642202388600</td>\n",
       "      <td>ef1dc2e316cca5b7fbf031e2e115f4fdb647516c6e3f84...</td>\n",
       "      <td>2017-05-15 19:04:37</td>\n",
       "      <td>1393.0</td>\n",
       "      <td>-9.50</td>\n",
       "      <td>52.63</td>\n",
       "      <td>kilrush</td>\n",
       "      <td>ie</td>\n",
       "    </tr>\n",
       "    <tr>\n",
       "      <th>347200138</th>\n",
       "      <td>135918535052829</td>\n",
       "      <td>7e2a687541d9aa91b7370c5529fe06b21c0575b019ce28...</td>\n",
       "      <td>2017-03-12 11:33:59</td>\n",
       "      <td>8036.1</td>\n",
       "      <td>-2.25</td>\n",
       "      <td>53.43</td>\n",
       "      <td>sale</td>\n",
       "      <td>gb</td>\n",
       "    </tr>\n",
       "    <tr>\n",
       "      <th>347200140</th>\n",
       "      <td>135918535052831</td>\n",
       "      <td>3dd04bded3682ed3a1f22dbd3dda3264b78d6f89b7e6ee...</td>\n",
       "      <td>2017-03-12 09:06:53</td>\n",
       "      <td>26564.5</td>\n",
       "      <td>-0.44</td>\n",
       "      <td>53.75</td>\n",
       "      <td>beverley</td>\n",
       "      <td>gb</td>\n",
       "    </tr>\n",
       "    <tr>\n",
       "      <th>347200169</th>\n",
       "      <td>136975097005269</td>\n",
       "      <td>808c961aeea6266cabc57b9d2d5b5777b75929b0ac72da...</td>\n",
       "      <td>2016-10-13 13:04:04</td>\n",
       "      <td>4290.8</td>\n",
       "      <td>-8.50</td>\n",
       "      <td>54.36</td>\n",
       "      <td>sligo</td>\n",
       "      <td>ie</td>\n",
       "    </tr>\n",
       "    <tr>\n",
       "      <th>347200177</th>\n",
       "      <td>136975097005277</td>\n",
       "      <td>578b02058c6123209c8b18d0408e071d6a55d62033c89f...</td>\n",
       "      <td>2016-10-13 08:18:12</td>\n",
       "      <td>3252.4</td>\n",
       "      <td>-97.39</td>\n",
       "      <td>32.83</td>\n",
       "      <td>saginaw</td>\n",
       "      <td>us</td>\n",
       "    </tr>\n",
       "  </tbody>\n",
       "</table>\n",
       "<p>12170250 rows × 8 columns</p>\n",
       "</div>"
      ],
      "text/plain": [
       "                        id                                    hashedathleteid  \\\n",
       "24                      24  7f0f7b330267216fe9fa65d6f0090ad8a5a7d7491b861d...   \n",
       "89                      89  5e258d3214e967a2af81b991561ebe692439244f194b18...   \n",
       "96                      96  6828ad47cac1ff47a4edecdde8a42f9867184e4a96f96a...   \n",
       "130                    130  43025210deaa0cff02a6ea41c74c8c9d1862b4ddd12732...   \n",
       "137                    137  06ed8bd6e1b7347e8f672ea4bad0e89ca7dbdad62100bc...   \n",
       "...                    ...                                                ...   \n",
       "347200111  133642202388600  ef1dc2e316cca5b7fbf031e2e115f4fdb647516c6e3f84...   \n",
       "347200138  135918535052829  7e2a687541d9aa91b7370c5529fe06b21c0575b019ce28...   \n",
       "347200140  135918535052831  3dd04bded3682ed3a1f22dbd3dda3264b78d6f89b7e6ee...   \n",
       "347200169  136975097005269  808c961aeea6266cabc57b9d2d5b5777b75929b0ac72da...   \n",
       "347200177  136975097005277  578b02058c6123209c8b18d0408e071d6a55d62033c89f...   \n",
       "\n",
       "               startdatelocal  totaldistance  startlngapprox  startlatapprox  \\\n",
       "24        2017-08-16 09:47:43         7011.0           -3.24           55.94   \n",
       "89        2017-08-19 15:12:59        16005.3           -6.73           52.74   \n",
       "96        2017-08-19 17:29:17        10041.3            2.30           48.86   \n",
       "130       2017-08-19 08:19:28        27411.0         -123.10           49.25   \n",
       "137       2017-08-19 18:13:25        16008.5           -3.17           55.94   \n",
       "...                       ...            ...             ...             ...   \n",
       "347200111 2017-05-15 19:04:37         1393.0           -9.50           52.63   \n",
       "347200138 2017-03-12 11:33:59         8036.1           -2.25           53.43   \n",
       "347200140 2017-03-12 09:06:53        26564.5           -0.44           53.75   \n",
       "347200169 2016-10-13 13:04:04         4290.8           -8.50           54.36   \n",
       "347200177 2016-10-13 08:18:12         3252.4          -97.39           32.83   \n",
       "\n",
       "           city_name country_code  \n",
       "24         edinburgh           gb  \n",
       "89            tullow           ie  \n",
       "96             paris           fr  \n",
       "130        vancouver           ca  \n",
       "137        edinburgh           gb  \n",
       "...              ...          ...  \n",
       "347200111    kilrush           ie  \n",
       "347200138       sale           gb  \n",
       "347200140   beverley           gb  \n",
       "347200169      sligo           ie  \n",
       "347200177    saginaw           us  \n",
       "\n",
       "[12170250 rows x 8 columns]"
      ]
     },
     "execution_count": 124,
     "metadata": {},
     "output_type": "execute_result"
    }
   ],
   "source": [
    "df3 = df2[df2.totaldistance > 50]\n",
    "df3"
   ]
  },
  {
   "cell_type": "code",
   "execution_count": 125,
   "metadata": {},
   "outputs": [
    {
     "data": {
      "text/html": [
       "<div>\n",
       "<style scoped>\n",
       "    .dataframe tbody tr th:only-of-type {\n",
       "        vertical-align: middle;\n",
       "    }\n",
       "\n",
       "    .dataframe tbody tr th {\n",
       "        vertical-align: top;\n",
       "    }\n",
       "\n",
       "    .dataframe thead th {\n",
       "        text-align: right;\n",
       "    }\n",
       "</style>\n",
       "<table border=\"1\" class=\"dataframe\">\n",
       "  <thead>\n",
       "    <tr style=\"text-align: right;\">\n",
       "      <th></th>\n",
       "      <th>totaldistance</th>\n",
       "    </tr>\n",
       "  </thead>\n",
       "  <tbody>\n",
       "    <tr>\n",
       "      <th>min</th>\n",
       "      <td>50.050000</td>\n",
       "    </tr>\n",
       "    <tr>\n",
       "      <th>max</th>\n",
       "      <td>99996.300000</td>\n",
       "    </tr>\n",
       "    <tr>\n",
       "      <th>median</th>\n",
       "      <td>7169.700000</td>\n",
       "    </tr>\n",
       "    <tr>\n",
       "      <th>skew</th>\n",
       "      <td>2.886423</td>\n",
       "    </tr>\n",
       "  </tbody>\n",
       "</table>\n",
       "</div>"
      ],
      "text/plain": [
       "        totaldistance\n",
       "min         50.050000\n",
       "max      99996.300000\n",
       "median    7169.700000\n",
       "skew         2.886423"
      ]
     },
     "execution_count": 125,
     "metadata": {},
     "output_type": "execute_result"
    }
   ],
   "source": [
    "df3.agg({'totaldistance': ['min', 'max', 'median', 'skew']})\n",
    "   ...: "
   ]
  },
  {
   "cell_type": "code",
   "execution_count": 126,
   "metadata": {},
   "outputs": [
    {
     "data": {
      "text/plain": [
       "8592.82977782999"
      ]
     },
     "execution_count": 126,
     "metadata": {},
     "output_type": "execute_result"
    }
   ],
   "source": [
    "#mean of total distance ran\n",
    "df3['totaldistance'].mean()"
   ]
  },
  {
   "cell_type": "code",
   "execution_count": 140,
   "metadata": {},
   "outputs": [
    {
     "data": {
      "text/html": [
       "<div>\n",
       "<style scoped>\n",
       "    .dataframe tbody tr th:only-of-type {\n",
       "        vertical-align: middle;\n",
       "    }\n",
       "\n",
       "    .dataframe tbody tr th {\n",
       "        vertical-align: top;\n",
       "    }\n",
       "\n",
       "    .dataframe thead th {\n",
       "        text-align: right;\n",
       "    }\n",
       "</style>\n",
       "<table border=\"1\" class=\"dataframe\">\n",
       "  <thead>\n",
       "    <tr style=\"text-align: right;\">\n",
       "      <th></th>\n",
       "      <th>id</th>\n",
       "      <th>hashedathleteid</th>\n",
       "      <th>startdatelocal</th>\n",
       "      <th>totaldistance</th>\n",
       "      <th>startlngapprox</th>\n",
       "      <th>startlatapprox</th>\n",
       "      <th>city_name</th>\n",
       "      <th>country_code</th>\n",
       "    </tr>\n",
       "  </thead>\n",
       "  <tbody>\n",
       "    <tr>\n",
       "      <th>13625</th>\n",
       "      <td>135918535053412</td>\n",
       "      <td>ac2cebb4ac66c71bf9e49aedb70bf2336433a50dfa0c69...</td>\n",
       "      <td>2017-03-12 11:36:32</td>\n",
       "      <td>20141.9</td>\n",
       "      <td>3.71</td>\n",
       "      <td>51.03</td>\n",
       "      <td>gent</td>\n",
       "      <td>be</td>\n",
       "    </tr>\n",
       "    <tr>\n",
       "      <th>65962</th>\n",
       "      <td>134526965649065</td>\n",
       "      <td>9c0128e1fdca57d8ee6114fc1f63b6f50f3cca1ed77c12...</td>\n",
       "      <td>2017-04-12 18:16:15</td>\n",
       "      <td>19555.4</td>\n",
       "      <td>4.25</td>\n",
       "      <td>50.86</td>\n",
       "      <td>dilbeek</td>\n",
       "      <td>be</td>\n",
       "    </tr>\n",
       "    <tr>\n",
       "      <th>71933</th>\n",
       "      <td>134767483818986</td>\n",
       "      <td>6af97dc1672ae106b0780db800149516b6a80bb8a84dbc...</td>\n",
       "      <td>2017-10-28 08:44:46</td>\n",
       "      <td>18011.8</td>\n",
       "      <td>4.36</td>\n",
       "      <td>50.83</td>\n",
       "      <td>brussels</td>\n",
       "      <td>be</td>\n",
       "    </tr>\n",
       "    <tr>\n",
       "      <th>205955</th>\n",
       "      <td>134861973101219</td>\n",
       "      <td>aa37514a88be61ded855aef7f1d9e93e499d02acf61d0b...</td>\n",
       "      <td>2016-04-24 09:58:32</td>\n",
       "      <td>21683.8</td>\n",
       "      <td>4.71</td>\n",
       "      <td>50.90</td>\n",
       "      <td>leuven</td>\n",
       "      <td>be</td>\n",
       "    </tr>\n",
       "    <tr>\n",
       "      <th>282557</th>\n",
       "      <td>136193412963758</td>\n",
       "      <td>8ea476bf917a8c13db02096c2f87acfca639f814e987ee...</td>\n",
       "      <td>2014-02-08 09:48:07</td>\n",
       "      <td>22644.8</td>\n",
       "      <td>4.78</td>\n",
       "      <td>50.88</td>\n",
       "      <td>holsbeek</td>\n",
       "      <td>be</td>\n",
       "    </tr>\n",
       "    <tr>\n",
       "      <th>...</th>\n",
       "      <td>...</td>\n",
       "      <td>...</td>\n",
       "      <td>...</td>\n",
       "      <td>...</td>\n",
       "      <td>...</td>\n",
       "      <td>...</td>\n",
       "      <td>...</td>\n",
       "      <td>...</td>\n",
       "    </tr>\n",
       "    <tr>\n",
       "      <th>346554962</th>\n",
       "      <td>135205570483919</td>\n",
       "      <td>bf556d2a468b96364537a853a5f514d0d9966fecedefe7...</td>\n",
       "      <td>2014-10-11 12:03:37</td>\n",
       "      <td>19314.7</td>\n",
       "      <td>3.69</td>\n",
       "      <td>51.05</td>\n",
       "      <td>gent</td>\n",
       "      <td>be</td>\n",
       "    </tr>\n",
       "    <tr>\n",
       "      <th>346577175</th>\n",
       "      <td>131864085924412</td>\n",
       "      <td>fd80c021591d495004d4347b196cf5194bf920e5edfe88...</td>\n",
       "      <td>2015-01-10 18:13:38</td>\n",
       "      <td>19977.9</td>\n",
       "      <td>3.61</td>\n",
       "      <td>50.86</td>\n",
       "      <td>oudenaarde</td>\n",
       "      <td>be</td>\n",
       "    </tr>\n",
       "    <tr>\n",
       "      <th>346725825</th>\n",
       "      <td>135377369176446</td>\n",
       "      <td>812741af89b8a57803de523eabe15e6a8bba19280a68cc...</td>\n",
       "      <td>2015-08-01 10:10:45</td>\n",
       "      <td>19013.7</td>\n",
       "      <td>4.56</td>\n",
       "      <td>50.80</td>\n",
       "      <td>huldenberg</td>\n",
       "      <td>be</td>\n",
       "    </tr>\n",
       "    <tr>\n",
       "      <th>346742188</th>\n",
       "      <td>135815455838050</td>\n",
       "      <td>e1b980b3848946edb2ef6d24bd1e57d32dc0f6b2fa7f24...</td>\n",
       "      <td>2016-04-03 10:14:37</td>\n",
       "      <td>21274.0</td>\n",
       "      <td>5.81</td>\n",
       "      <td>50.75</td>\n",
       "      <td>aubel</td>\n",
       "      <td>be</td>\n",
       "    </tr>\n",
       "    <tr>\n",
       "      <th>347188806</th>\n",
       "      <td>132929237813205</td>\n",
       "      <td>973c1987d41ea4dee1f5c5bbba5956130b300bdae76c08...</td>\n",
       "      <td>2017-10-28 10:36:08</td>\n",
       "      <td>21172.6</td>\n",
       "      <td>3.68</td>\n",
       "      <td>51.05</td>\n",
       "      <td>gent</td>\n",
       "      <td>be</td>\n",
       "    </tr>\n",
       "  </tbody>\n",
       "</table>\n",
       "<p>5158 rows × 8 columns</p>\n",
       "</div>"
      ],
      "text/plain": [
       "                        id                                    hashedathleteid  \\\n",
       "13625      135918535053412  ac2cebb4ac66c71bf9e49aedb70bf2336433a50dfa0c69...   \n",
       "65962      134526965649065  9c0128e1fdca57d8ee6114fc1f63b6f50f3cca1ed77c12...   \n",
       "71933      134767483818986  6af97dc1672ae106b0780db800149516b6a80bb8a84dbc...   \n",
       "205955     134861973101219  aa37514a88be61ded855aef7f1d9e93e499d02acf61d0b...   \n",
       "282557     136193412963758  8ea476bf917a8c13db02096c2f87acfca639f814e987ee...   \n",
       "...                    ...                                                ...   \n",
       "346554962  135205570483919  bf556d2a468b96364537a853a5f514d0d9966fecedefe7...   \n",
       "346577175  131864085924412  fd80c021591d495004d4347b196cf5194bf920e5edfe88...   \n",
       "346725825  135377369176446  812741af89b8a57803de523eabe15e6a8bba19280a68cc...   \n",
       "346742188  135815455838050  e1b980b3848946edb2ef6d24bd1e57d32dc0f6b2fa7f24...   \n",
       "347188806  132929237813205  973c1987d41ea4dee1f5c5bbba5956130b300bdae76c08...   \n",
       "\n",
       "               startdatelocal  totaldistance  startlngapprox  startlatapprox  \\\n",
       "13625     2017-03-12 11:36:32        20141.9            3.71           51.03   \n",
       "65962     2017-04-12 18:16:15        19555.4            4.25           50.86   \n",
       "71933     2017-10-28 08:44:46        18011.8            4.36           50.83   \n",
       "205955    2016-04-24 09:58:32        21683.8            4.71           50.90   \n",
       "282557    2014-02-08 09:48:07        22644.8            4.78           50.88   \n",
       "...                       ...            ...             ...             ...   \n",
       "346554962 2014-10-11 12:03:37        19314.7            3.69           51.05   \n",
       "346577175 2015-01-10 18:13:38        19977.9            3.61           50.86   \n",
       "346725825 2015-08-01 10:10:45        19013.7            4.56           50.80   \n",
       "346742188 2016-04-03 10:14:37        21274.0            5.81           50.75   \n",
       "347188806 2017-10-28 10:36:08        21172.6            3.68           51.05   \n",
       "\n",
       "            city_name country_code  \n",
       "13625            gent           be  \n",
       "65962         dilbeek           be  \n",
       "71933        brussels           be  \n",
       "205955         leuven           be  \n",
       "282557       holsbeek           be  \n",
       "...               ...          ...  \n",
       "346554962        gent           be  \n",
       "346577175  oudenaarde           be  \n",
       "346725825  huldenberg           be  \n",
       "346742188       aubel           be  \n",
       "347188806        gent           be  \n",
       "\n",
       "[5158 rows x 8 columns]"
      ]
     },
     "execution_count": 140,
     "metadata": {},
     "output_type": "execute_result"
    }
   ],
   "source": [
    "df4 = df3[df3.country_code == 'be']\n",
    "df4 = df4[df4.totaldistance < 1000*23]\n",
    "df4 = df4[df4.totaldistance > 1000*(23-5)]\n",
    "df4"
   ]
  },
  {
   "cell_type": "code",
   "execution_count": 141,
   "metadata": {},
   "outputs": [
    {
     "data": {
      "text/plain": [
       "5158"
      ]
     },
     "execution_count": 141,
     "metadata": {},
     "output_type": "execute_result"
    }
   ],
   "source": [
    "len(df4)"
   ]
  },
  {
   "cell_type": "code",
   "execution_count": 142,
   "metadata": {},
   "outputs": [
    {
     "data": {
      "text/plain": [
       "<pandas.core.groupby.generic.DataFrameGroupBy object at 0x000002B100E72D30>"
      ]
     },
     "execution_count": 142,
     "metadata": {},
     "output_type": "execute_result"
    }
   ],
   "source": [
    "runnersdf = df3.groupby('hashedathleteid', as_index='True')\n",
    "runnersdf"
   ]
  },
  {
   "cell_type": "code",
   "execution_count": 146,
   "metadata": {},
   "outputs": [
    {
     "ename": "SyntaxError",
     "evalue": "invalid syntax (<ipython-input-146-7934d63b00a4>, line 4)",
     "output_type": "error",
     "traceback": [
      "\u001b[1;36m  File \u001b[1;32m\"<ipython-input-146-7934d63b00a4>\"\u001b[1;36m, line \u001b[1;32m4\u001b[0m\n\u001b[1;33m    plt.plot([1,2,3])\u001b[0m\n\u001b[1;37m    ^\u001b[0m\n\u001b[1;31mSyntaxError\u001b[0m\u001b[1;31m:\u001b[0m invalid syntax\n"
     ]
    }
   ],
   "source": [
    "import seaborn as sns\n",
    "test_athlete = df[df.hashedathleteid == '0d53733f14d9320e32e87352c66efcc12e5da36264f693aa069362b6df45c82f'\n",
    "#sns.barplot(x=test_athlete.startdatelocal, y=test_athlete.totaldistance)\n",
    "plt.plot([1,2,3])\n",
    "                  #plt.plot(test_athlete.startdatelocal, test_athlete.totaldistance)"
   ]
  },
  {
   "cell_type": "code",
   "execution_count": 147,
   "metadata": {},
   "outputs": [
    {
     "data": {
      "text/plain": [
       "<matplotlib.axes._subplots.AxesSubplot at 0x2b11f175040>"
      ]
     },
     "execution_count": 147,
     "metadata": {},
     "output_type": "execute_result"
    },
    {
     "data": {
      "image/png": "[encoded data removed]",
      "text/plain": [
       "<Figure size 432x288 with 1 Axes>"
      ]
     },
     "metadata": {
      "needs_background": "light"
     },
     "output_type": "display_data"
    }
   ],
   "source": [
    "#Say I am in Belgium, I run 20km in 2hrs\n",
    "#Find people like me\n",
    "x = 20\n",
    "df5 = df4[df4.totaldistance < 1000*(x+2)]\n",
    "df5 = df4[df4.totaldistance > 1000*(x-2)]\n",
    "df5.plot(x ='startdatelocal', y='totaldistance', kind = 'scatter')"
   ]
  },
  {
   "cell_type": "code",
   "execution_count": 148,
   "metadata": {},
   "outputs": [
    {
     "data": {
      "text/plain": [
       "hashedathleteid\n",
       "ff2788805c00aa920177be1f46ecc00f5ce452b92870ac6cbe8541522e55084e      1\n",
       "4c1c96eea30d340f3cd20742555290725f269cf21eb2b45558407adaa3dab7cc      1\n",
       "b7f733108bc0d06c6321201026946e3fb518b0acab0090ac978418ed3bb49def      1\n",
       "4d65eb1bf9ef9a7a779f1e17fef7c5c9b87918fdc403d1ac8129afdf242aa6c2      1\n",
       "4de04ebc092d233602e5fe5e3075beee2c8860f56062bf699f2dfd40fc79139d      1\n",
       "                                                                   ... \n",
       "75b3440ec5c9e7ced0a0a9348ef0df949e3d4d8e7ffa20663f2c14e76ecb325c     86\n",
       "59dfb728d7f882503b65a3be64dff32212e045be9344a07b03c20487b8738d3a    103\n",
       "8ea476bf917a8c13db02096c2f87acfca639f814e987eeaa84251aa66d14d08d    125\n",
       "fe581dac07a73d4b163d834b0abf66bcec2b4a75c4401ef3aaa771a58f023db7    134\n",
       "321a7cc729bedb27ec15a2dd0a111f0af648b092dfe1943a50dfbbe47805ad69    157\n",
       "Name: totaldistance, Length: 596, dtype: int64"
      ]
     },
     "execution_count": 148,
     "metadata": {},
     "output_type": "execute_result"
    }
   ],
   "source": [
    "#Find individuals who ran this distance and improved over the long run\n",
    "activity_counts = df5.groupby('hashedathleteid').agg('count')['totaldistance']\n",
    "activity_counts.sort_values().tail(2000)\n"
   ]
  },
  {
   "cell_type": "code",
   "execution_count": 149,
   "metadata": {},
   "outputs": [
    {
     "data": {
      "text/plain": [
       "<matplotlib.axes._subplots.AxesSubplot at 0x2b100dcb400>"
      ]
     },
     "execution_count": 149,
     "metadata": {},
     "output_type": "execute_result"
    },
    {
     "data": {
      "image/png": "[encoded data removed]",
      "text/plain": [
       "<Figure size 432x288 with 1 Axes>"
      ]
     },
     "metadata": {
      "needs_background": "light"
     },
     "output_type": "display_data"
    }
   ],
   "source": [
    "test_athlete2 = df[df.hashedathleteid == 'ff2788805c00aa920177be1f46ecc00f5ce452b92870ac6cbe8541522e55084e']\n",
    "test_athlete2.plot(x ='startdatelocal', y='totaldistance', kind = 'line')"
   ]
  },
  {
   "cell_type": "code",
   "execution_count": null,
   "metadata": {},
   "outputs": [],
   "source": [
    "activity_counts"
   ]
  },
  {
   "cell_type": "code",
   "execution_count": null,
   "metadata": {},
   "outputs": [],
   "source": [
    "#Now plot with conditions: Atleast has 5 entries, within 2km of current running distance and projected\n",
    "similar_users_trend = activity_counts.sort_values()\n",
    "similar_users_trend.name"
   ]
  },
  {
   "cell_type": "code",
   "execution_count": null,
   "metadata": {},
   "outputs": [],
   "source": [
    "activity_counts2 = df5.groupby('hashedathleteid')\n",
    "activity_counts2.head(2)"
   ]
  },
  {
   "cell_type": "code",
   "execution_count": null,
   "metadata": {},
   "outputs": [],
   "source": []
  }
 ],
 "metadata": {
  "kernelspec": {
   "display_name": "Python 3",
   "language": "python",
   "name": "python3"
  },
  "language_info": {
   "codemirror_mode": {
    "name": "ipython",
    "version": 3
   },
   "file_extension": ".py",
   "mimetype": "text/x-python",
   "name": "python",
   "nbconvert_exporter": "python",
   "pygments_lexer": "ipython3",
   "version": "3.8.3"
  }
 },
 "nbformat": 4,
 "nbformat_minor": 4
}
