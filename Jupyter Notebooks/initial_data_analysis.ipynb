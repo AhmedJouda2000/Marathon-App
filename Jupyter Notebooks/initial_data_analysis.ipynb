{
 "cells": [
  {
   "cell_type": "code",
   "execution_count": 29,
   "metadata": {},
   "outputs": [],
   "source": [
    "import pandas as pd\n",
    "import matplotlib.pylab as plt\n",
    "import seaborn as sns"
   ]
  },
  {
   "cell_type": "code",
   "execution_count": 2,
   "metadata": {},
   "outputs": [
    {
     "name": "stdout",
     "output_type": "stream",
     "text": [
      "total 770180\n",
      "-rw-r--r-- 1 aonghus staff        72 Jun 25 11:43 Untitled.ipynb\n",
      "-rw------- 1 aonghus staff 777754122 Jun 25 11:34 df_merged_ie.pkl\n"
     ]
    }
   ],
   "source": [
    "!ls -l"
   ]
  },
  {
   "cell_type": "code",
   "execution_count": 3,
   "metadata": {},
   "outputs": [],
   "source": [
    "df = pd.read_pickle('df_merged_ie.pkl')"
   ]
  },
  {
   "cell_type": "code",
   "execution_count": 4,
   "metadata": {},
   "outputs": [
    {
     "data": {
      "text/html": [
       "<div>\n",
       "<style scoped>\n",
       "    .dataframe tbody tr th:only-of-type {\n",
       "        vertical-align: middle;\n",
       "    }\n",
       "\n",
       "    .dataframe tbody tr th {\n",
       "        vertical-align: top;\n",
       "    }\n",
       "\n",
       "    .dataframe thead th {\n",
       "        text-align: right;\n",
       "    }\n",
       "</style>\n",
       "<table border=\"1\" class=\"dataframe\">\n",
       "  <thead>\n",
       "    <tr style=\"text-align: right;\">\n",
       "      <th></th>\n",
       "      <th>id</th>\n",
       "      <th>hashedathleteid</th>\n",
       "      <th>startdatelocal</th>\n",
       "      <th>totaldistance</th>\n",
       "      <th>startlngapprox</th>\n",
       "      <th>startlatapprox</th>\n",
       "      <th>city_name</th>\n",
       "      <th>country_code</th>\n",
       "    </tr>\n",
       "  </thead>\n",
       "  <tbody>\n",
       "    <tr>\n",
       "      <th>24</th>\n",
       "      <td>24</td>\n",
       "      <td>7f0f7b330267216fe9fa65d6f0090ad8a5a7d7491b861d...</td>\n",
       "      <td>2017-08-16 09:47:43</td>\n",
       "      <td>7011.0</td>\n",
       "      <td>-3.24</td>\n",
       "      <td>55.94</td>\n",
       "      <td>edinburgh</td>\n",
       "      <td>gb</td>\n",
       "    </tr>\n",
       "    <tr>\n",
       "      <th>89</th>\n",
       "      <td>89</td>\n",
       "      <td>5e258d3214e967a2af81b991561ebe692439244f194b18...</td>\n",
       "      <td>2017-08-19 15:12:59</td>\n",
       "      <td>16005.3</td>\n",
       "      <td>-6.73</td>\n",
       "      <td>52.74</td>\n",
       "      <td>tullow</td>\n",
       "      <td>ie</td>\n",
       "    </tr>\n",
       "  </tbody>\n",
       "</table>\n",
       "</div>"
      ],
      "text/plain": [
       "    id                                    hashedathleteid      startdatelocal  \\\n",
       "24  24  7f0f7b330267216fe9fa65d6f0090ad8a5a7d7491b861d... 2017-08-16 09:47:43   \n",
       "89  89  5e258d3214e967a2af81b991561ebe692439244f194b18... 2017-08-19 15:12:59   \n",
       "\n",
       "    totaldistance  startlngapprox  startlatapprox  city_name country_code  \n",
       "24         7011.0           -3.24           55.94  edinburgh           gb  \n",
       "89        16005.3           -6.73           52.74     tullow           ie  "
      ]
     },
     "execution_count": 4,
     "metadata": {},
     "output_type": "execute_result"
    }
   ],
   "source": [
    "df.head(2)"
   ]
  },
  {
   "cell_type": "code",
   "execution_count": 9,
   "metadata": {},
   "outputs": [
    {
     "data": {
      "text/html": [
       "<div>\n",
       "<style scoped>\n",
       "    .dataframe tbody tr th:only-of-type {\n",
       "        vertical-align: middle;\n",
       "    }\n",
       "\n",
       "    .dataframe tbody tr th {\n",
       "        vertical-align: top;\n",
       "    }\n",
       "\n",
       "    .dataframe thead th {\n",
       "        text-align: right;\n",
       "    }\n",
       "</style>\n",
       "<table border=\"1\" class=\"dataframe\">\n",
       "  <thead>\n",
       "    <tr style=\"text-align: right;\">\n",
       "      <th></th>\n",
       "      <th>id</th>\n",
       "      <th>hashedathleteid</th>\n",
       "      <th>startdatelocal</th>\n",
       "      <th>totaldistance</th>\n",
       "      <th>startlngapprox</th>\n",
       "      <th>startlatapprox</th>\n",
       "      <th>city_name</th>\n",
       "      <th>country_code</th>\n",
       "    </tr>\n",
       "  </thead>\n",
       "  <tbody>\n",
       "    <tr>\n",
       "      <th>24</th>\n",
       "      <td>24</td>\n",
       "      <td>7f0f7b330267216fe9fa65d6f0090ad8a5a7d7491b861d...</td>\n",
       "      <td>2017-08-16 09:47:43</td>\n",
       "      <td>7011.0</td>\n",
       "      <td>-3.24</td>\n",
       "      <td>55.94</td>\n",
       "      <td>edinburgh</td>\n",
       "      <td>gb</td>\n",
       "    </tr>\n",
       "    <tr>\n",
       "      <th>89</th>\n",
       "      <td>89</td>\n",
       "      <td>5e258d3214e967a2af81b991561ebe692439244f194b18...</td>\n",
       "      <td>2017-08-19 15:12:59</td>\n",
       "      <td>16005.3</td>\n",
       "      <td>-6.73</td>\n",
       "      <td>52.74</td>\n",
       "      <td>tullow</td>\n",
       "      <td>ie</td>\n",
       "    </tr>\n",
       "    <tr>\n",
       "      <th>96</th>\n",
       "      <td>96</td>\n",
       "      <td>6828ad47cac1ff47a4edecdde8a42f9867184e4a96f96a...</td>\n",
       "      <td>2017-08-19 17:29:17</td>\n",
       "      <td>10041.3</td>\n",
       "      <td>2.30</td>\n",
       "      <td>48.86</td>\n",
       "      <td>paris</td>\n",
       "      <td>fr</td>\n",
       "    </tr>\n",
       "    <tr>\n",
       "      <th>130</th>\n",
       "      <td>130</td>\n",
       "      <td>43025210deaa0cff02a6ea41c74c8c9d1862b4ddd12732...</td>\n",
       "      <td>2017-08-19 08:19:28</td>\n",
       "      <td>27411.0</td>\n",
       "      <td>-123.10</td>\n",
       "      <td>49.25</td>\n",
       "      <td>vancouver</td>\n",
       "      <td>ca</td>\n",
       "    </tr>\n",
       "    <tr>\n",
       "      <th>137</th>\n",
       "      <td>137</td>\n",
       "      <td>06ed8bd6e1b7347e8f672ea4bad0e89ca7dbdad62100bc...</td>\n",
       "      <td>2017-08-19 18:13:25</td>\n",
       "      <td>16008.5</td>\n",
       "      <td>-3.17</td>\n",
       "      <td>55.94</td>\n",
       "      <td>edinburgh</td>\n",
       "      <td>gb</td>\n",
       "    </tr>\n",
       "    <tr>\n",
       "      <th>...</th>\n",
       "      <td>...</td>\n",
       "      <td>...</td>\n",
       "      <td>...</td>\n",
       "      <td>...</td>\n",
       "      <td>...</td>\n",
       "      <td>...</td>\n",
       "      <td>...</td>\n",
       "      <td>...</td>\n",
       "    </tr>\n",
       "    <tr>\n",
       "      <th>347200111</th>\n",
       "      <td>133642202388600</td>\n",
       "      <td>ef1dc2e316cca5b7fbf031e2e115f4fdb647516c6e3f84...</td>\n",
       "      <td>2017-05-15 19:04:37</td>\n",
       "      <td>1393.0</td>\n",
       "      <td>-9.50</td>\n",
       "      <td>52.63</td>\n",
       "      <td>kilrush</td>\n",
       "      <td>ie</td>\n",
       "    </tr>\n",
       "    <tr>\n",
       "      <th>347200138</th>\n",
       "      <td>135918535052829</td>\n",
       "      <td>7e2a687541d9aa91b7370c5529fe06b21c0575b019ce28...</td>\n",
       "      <td>2017-03-12 11:33:59</td>\n",
       "      <td>8036.1</td>\n",
       "      <td>-2.25</td>\n",
       "      <td>53.43</td>\n",
       "      <td>sale</td>\n",
       "      <td>gb</td>\n",
       "    </tr>\n",
       "    <tr>\n",
       "      <th>347200140</th>\n",
       "      <td>135918535052831</td>\n",
       "      <td>3dd04bded3682ed3a1f22dbd3dda3264b78d6f89b7e6ee...</td>\n",
       "      <td>2017-03-12 09:06:53</td>\n",
       "      <td>26564.5</td>\n",
       "      <td>-0.44</td>\n",
       "      <td>53.75</td>\n",
       "      <td>beverley</td>\n",
       "      <td>gb</td>\n",
       "    </tr>\n",
       "    <tr>\n",
       "      <th>347200169</th>\n",
       "      <td>136975097005269</td>\n",
       "      <td>808c961aeea6266cabc57b9d2d5b5777b75929b0ac72da...</td>\n",
       "      <td>2016-10-13 13:04:04</td>\n",
       "      <td>4290.8</td>\n",
       "      <td>-8.50</td>\n",
       "      <td>54.36</td>\n",
       "      <td>sligo</td>\n",
       "      <td>ie</td>\n",
       "    </tr>\n",
       "    <tr>\n",
       "      <th>347200177</th>\n",
       "      <td>136975097005277</td>\n",
       "      <td>578b02058c6123209c8b18d0408e071d6a55d62033c89f...</td>\n",
       "      <td>2016-10-13 08:18:12</td>\n",
       "      <td>3252.4</td>\n",
       "      <td>-97.39</td>\n",
       "      <td>32.83</td>\n",
       "      <td>saginaw</td>\n",
       "      <td>us</td>\n",
       "    </tr>\n",
       "  </tbody>\n",
       "</table>\n",
       "<p>12158424 rows × 8 columns</p>\n",
       "</div>"
      ],
      "text/plain": [
       "                        id                                    hashedathleteid  \\\n",
       "24                      24  7f0f7b330267216fe9fa65d6f0090ad8a5a7d7491b861d...   \n",
       "89                      89  5e258d3214e967a2af81b991561ebe692439244f194b18...   \n",
       "96                      96  6828ad47cac1ff47a4edecdde8a42f9867184e4a96f96a...   \n",
       "130                    130  43025210deaa0cff02a6ea41c74c8c9d1862b4ddd12732...   \n",
       "137                    137  06ed8bd6e1b7347e8f672ea4bad0e89ca7dbdad62100bc...   \n",
       "...                    ...                                                ...   \n",
       "347200111  133642202388600  ef1dc2e316cca5b7fbf031e2e115f4fdb647516c6e3f84...   \n",
       "347200138  135918535052829  7e2a687541d9aa91b7370c5529fe06b21c0575b019ce28...   \n",
       "347200140  135918535052831  3dd04bded3682ed3a1f22dbd3dda3264b78d6f89b7e6ee...   \n",
       "347200169  136975097005269  808c961aeea6266cabc57b9d2d5b5777b75929b0ac72da...   \n",
       "347200177  136975097005277  578b02058c6123209c8b18d0408e071d6a55d62033c89f...   \n",
       "\n",
       "               startdatelocal  totaldistance  startlngapprox  startlatapprox  \\\n",
       "24        2017-08-16 09:47:43         7011.0           -3.24           55.94   \n",
       "89        2017-08-19 15:12:59        16005.3           -6.73           52.74   \n",
       "96        2017-08-19 17:29:17        10041.3            2.30           48.86   \n",
       "130       2017-08-19 08:19:28        27411.0         -123.10           49.25   \n",
       "137       2017-08-19 18:13:25        16008.5           -3.17           55.94   \n",
       "...                       ...            ...             ...             ...   \n",
       "347200111 2017-05-15 19:04:37         1393.0           -9.50           52.63   \n",
       "347200138 2017-03-12 11:33:59         8036.1           -2.25           53.43   \n",
       "347200140 2017-03-12 09:06:53        26564.5           -0.44           53.75   \n",
       "347200169 2016-10-13 13:04:04         4290.8           -8.50           54.36   \n",
       "347200177 2016-10-13 08:18:12         3252.4          -97.39           32.83   \n",
       "\n",
       "           city_name country_code  \n",
       "24         edinburgh           gb  \n",
       "89            tullow           ie  \n",
       "96             paris           fr  \n",
       "130        vancouver           ca  \n",
       "137        edinburgh           gb  \n",
       "...              ...          ...  \n",
       "347200111    kilrush           ie  \n",
       "347200138       sale           gb  \n",
       "347200140   beverley           gb  \n",
       "347200169      sligo           ie  \n",
       "347200177    saginaw           us  \n",
       "\n",
       "[12158424 rows x 8 columns]"
      ]
     },
     "execution_count": 9,
     "metadata": {},
     "output_type": "execute_result"
    }
   ],
   "source": [
    "df[df.totaldistance < 1000*40]"
   ]
  },
  {
   "cell_type": "code",
   "execution_count": 12,
   "metadata": {},
   "outputs": [
    {
     "data": {
      "image/png": "[encoded data removed]",
      "text/plain": [
       "<Figure size 432x288 with 1 Axes>"
      ]
     },
     "metadata": {
      "needs_background": "light"
     },
     "output_type": "display_data"
    }
   ],
   "source": [
    "df[df.totaldistance < 40000].totaldistance.hist(bins=100, density=True)\n",
    "plt.yscale('log')"
   ]
  },
  {
   "cell_type": "code",
   "execution_count": 14,
   "metadata": {},
   "outputs": [
    {
     "data": {
      "text/plain": [
       "8282.039543264915"
      ]
     },
     "execution_count": 14,
     "metadata": {},
     "output_type": "execute_result"
    }
   ],
   "source": [
    "df[df.totaldistance < 40000].totaldistance.mean()"
   ]
  },
  {
   "cell_type": "code",
   "execution_count": 16,
   "metadata": {},
   "outputs": [],
   "source": [
    "activity_counts = df.groupby('hashedathleteid').agg('count')['totaldistance']"
   ]
  },
  {
   "cell_type": "code",
   "execution_count": 21,
   "metadata": {},
   "outputs": [
    {
     "data": {
      "text/plain": [
       "<matplotlib.axes._subplots.AxesSubplot at 0x7ff54a5c41d0>"
      ]
     },
     "execution_count": 21,
     "metadata": {},
     "output_type": "execute_result"
    },
    {
     "data": {
      "image/png": "[encoded data removed]",
      "text/plain": [
       "<Figure size 432x288 with 1 Axes>"
      ]
     },
     "metadata": {
      "needs_background": "light"
     },
     "output_type": "display_data"
    }
   ],
   "source": [
    "activity_counts.hist(bins=100, density=True)\n",
    "#plt.yscale('log')"
   ]
  },
  {
   "cell_type": "code",
   "execution_count": 39,
   "metadata": {},
   "outputs": [
    {
     "data": {
      "text/plain": [
       "hashedathleteid\n",
       "0d53733f14d9320e32e87352c66efcc12e5da36264f693aa069362b6df45c82f     817\n",
       "62a5495b394810bccac079a440ad7fa7fdfec59619f02b9139e9f6f5325d0cb3     817\n",
       "cc9222628c69ea3ce39f84ae1ea9d0ba1550b285b9648c8ef4a5347dec3f05ed     817\n",
       "0176e8b7f6922adf53a32bfbc71d48bd76b6c46a00674052ea130277dac9dc62     818\n",
       "1a4f89a98908640cd61bc0e04071b0239a207a84451174d6f242577a253e873a     818\n",
       "                                                                    ... \n",
       "f9f2184cab4cf0e49a4821eb01963335d812325e33e5f76cc91c75b2fdd22bd3    3433\n",
       "9db84ebbd102fcc3f9d3bb992fceb17ef2f8c15cba24c507613c537044f899bb    3619\n",
       "d7228f9f79bfce5e453d09ea0ad5467aa0c32f421fa99323fe70638eb231a9ac    3768\n",
       "a0c443419589351929ebc341c7275db22944cb0e931e13fc9ee8a735478fa594    3861\n",
       "b0dccb874764182bd08b703b06383285d6425d071a321001a0230b835cd26cdb    5068\n",
       "Name: totaldistance, Length: 2000, dtype: int64"
      ]
     },
     "execution_count": 39,
     "metadata": {},
     "output_type": "execute_result"
    }
   ],
   "source": [
    "activity_counts.sort_values().tail(2000)"
   ]
  },
  {
   "cell_type": "code",
   "execution_count": 40,
   "metadata": {},
   "outputs": [],
   "source": [
    "test_athlete = df[df.hashedathleteid == '0d53733f14d9320e32e87352c66efcc12e5da36264f693aa069362b6df45c82f']"
   ]
  },
  {
   "cell_type": "code",
   "execution_count": 41,
   "metadata": {},
   "outputs": [
    {
     "data": {
      "text/plain": [
       "<matplotlib.axes._subplots.AxesSubplot at 0x7ff54e855160>"
      ]
     },
     "execution_count": 41,
     "metadata": {},
     "output_type": "execute_result"
    },
    {
     "data": {
      "image/png": "[encoded data removed]",
      "text/plain": [
       "<Figure size 432x288 with 1 Axes>"
      ]
     },
     "metadata": {
      "needs_background": "light"
     },
     "output_type": "display_data"
    }
   ],
   "source": [
    "sns.barplot(x=test_athlete.startdatelocal, y=test_athlete.totaldistance)"
   ]
  },
  {
   "cell_type": "code",
   "execution_count": null,
   "metadata": {},
   "outputs": [],
   "source": []
  }
 ],
 "metadata": {
  "kernelspec": {
   "display_name": "Python 3",
   "language": "python",
   "name": "python3"
  },
  "language_info": {
   "codemirror_mode": {
    "name": "ipython",
    "version": 3
   },
   "file_extension": ".py",
   "mimetype": "text/x-python",
   "name": "python",
   "nbconvert_exporter": "python",
   "pygments_lexer": "ipython3",
   "version": "3.6.7"
  }
 },
 "nbformat": 4,
 "nbformat_minor": 4
}
